{
 "cells": [
  {
   "cell_type": "code",
   "execution_count": 1,
   "metadata": {},
   "outputs": [
    {
     "name": "stderr",
     "output_type": "stream",
     "text": [
      "Loading required package: carData\n",
      "\n",
      "-- \u001b[1mAttaching packages\u001b[22m --------------------------------------- tidyverse 1.3.1 --\n",
      "\n",
      "\u001b[32mv\u001b[39m \u001b[34mggplot2\u001b[39m 3.3.5     \u001b[32mv\u001b[39m \u001b[34mpurrr  \u001b[39m 0.3.4\n",
      "\u001b[32mv\u001b[39m \u001b[34mtibble \u001b[39m 3.1.4     \u001b[32mv\u001b[39m \u001b[34mdplyr  \u001b[39m 1.0.7\n",
      "\u001b[32mv\u001b[39m \u001b[34mtidyr  \u001b[39m 1.1.3     \u001b[32mv\u001b[39m \u001b[34mstringr\u001b[39m 1.4.0\n",
      "\u001b[32mv\u001b[39m \u001b[34mreadr  \u001b[39m 2.0.1     \u001b[32mv\u001b[39m \u001b[34mforcats\u001b[39m 0.5.1\n",
      "\n",
      "-- \u001b[1mConflicts\u001b[22m ------------------------------------------ tidyverse_conflicts() --\n",
      "\u001b[31mx\u001b[39m \u001b[34mdplyr\u001b[39m::\u001b[32mfilter()\u001b[39m masks \u001b[34mstats\u001b[39m::filter()\n",
      "\u001b[31mx\u001b[39m \u001b[34mdplyr\u001b[39m::\u001b[32mlag()\u001b[39m    masks \u001b[34mstats\u001b[39m::lag()\n",
      "\u001b[31mx\u001b[39m \u001b[34mdplyr\u001b[39m::\u001b[32mrecode()\u001b[39m masks \u001b[34mcar\u001b[39m::recode()\n",
      "\u001b[31mx\u001b[39m \u001b[34mdplyr\u001b[39m::\u001b[32mselect()\u001b[39m masks \u001b[34mMASS\u001b[39m::select()\n",
      "\u001b[31mx\u001b[39m \u001b[34mpurrr\u001b[39m::\u001b[32msome()\u001b[39m   masks \u001b[34mcar\u001b[39m::some()\n",
      "\n"
     ]
    }
   ],
   "source": [
    "library(\"MASS\")\n",
    "library(\"car\")\n",
    "library(\"leaps\")\n",
    "library(\"tidyverse\")"
   ]
  },
  {
   "cell_type": "code",
   "execution_count": 2,
   "metadata": {},
   "outputs": [
    {
     "data": {
      "text/plain": [
       "      IDNO           BODYFAT         DENSITY           AGE       \n",
       " Min.   :  1.00   Min.   : 0.00   Min.   :0.995   Min.   :22.00  \n",
       " 1st Qu.: 63.75   1st Qu.:12.80   1st Qu.:1.041   1st Qu.:35.75  \n",
       " Median :126.50   Median :19.00   Median :1.055   Median :43.00  \n",
       " Mean   :126.50   Mean   :18.94   Mean   :1.056   Mean   :44.88  \n",
       " 3rd Qu.:189.25   3rd Qu.:24.60   3rd Qu.:1.070   3rd Qu.:54.00  \n",
       " Max.   :252.00   Max.   :45.10   Max.   :1.109   Max.   :81.00  \n",
       "     WEIGHT          HEIGHT        ADIPOSITY          NECK      \n",
       " Min.   :118.5   Min.   :29.50   Min.   :18.10   Min.   :31.10  \n",
       " 1st Qu.:159.0   1st Qu.:68.25   1st Qu.:23.10   1st Qu.:36.40  \n",
       " Median :176.5   Median :70.00   Median :25.05   Median :38.00  \n",
       " Mean   :178.9   Mean   :70.15   Mean   :25.44   Mean   :37.99  \n",
       " 3rd Qu.:197.0   3rd Qu.:72.25   3rd Qu.:27.32   3rd Qu.:39.42  \n",
       " Max.   :363.1   Max.   :77.75   Max.   :48.90   Max.   :51.20  \n",
       "     CHEST           ABDOMEN            HIP            THIGH      \n",
       " Min.   : 79.30   Min.   : 69.40   Min.   : 85.0   Min.   :47.20  \n",
       " 1st Qu.: 94.35   1st Qu.: 84.58   1st Qu.: 95.5   1st Qu.:56.00  \n",
       " Median : 99.65   Median : 90.95   Median : 99.3   Median :59.00  \n",
       " Mean   :100.82   Mean   : 92.56   Mean   : 99.9   Mean   :59.41  \n",
       " 3rd Qu.:105.38   3rd Qu.: 99.33   3rd Qu.:103.5   3rd Qu.:62.35  \n",
       " Max.   :136.20   Max.   :148.10   Max.   :147.7   Max.   :87.30  \n",
       "      KNEE           ANKLE          BICEPS         FOREARM          WRIST      \n",
       " Min.   :33.00   Min.   :19.1   Min.   :24.80   Min.   :21.00   Min.   :15.80  \n",
       " 1st Qu.:36.98   1st Qu.:22.0   1st Qu.:30.20   1st Qu.:27.30   1st Qu.:17.60  \n",
       " Median :38.50   Median :22.8   Median :32.05   Median :28.70   Median :18.30  \n",
       " Mean   :38.59   Mean   :23.1   Mean   :32.27   Mean   :28.66   Mean   :18.23  \n",
       " 3rd Qu.:39.92   3rd Qu.:24.0   3rd Qu.:34.33   3rd Qu.:30.00   3rd Qu.:18.80  \n",
       " Max.   :49.10   Max.   :33.9   Max.   :45.00   Max.   :34.90   Max.   :21.40  "
      ]
     },
     "metadata": {},
     "output_type": "display_data"
    }
   ],
   "source": [
    "# read the dataset and look at the raw data\n",
    "BodyFat <- read_csv(\"https://raw.githubusercontent.com/JumpyJumpy/stat628-module2/master/data/BodyFat.csv\", show_col_types = FALSE)\n",
    "summary(BodyFat)"
   ]
  },
  {
   "cell_type": "code",
   "execution_count": 3,
   "metadata": {},
   "outputs": [],
   "source": [
    "# unit conversion\n",
    "\n",
    "BodyFat$HEIGHT <- BodyFat$HEIGHT / 0.3937"
   ]
  },
  {
   "cell_type": "code",
   "execution_count": 4,
   "metadata": {},
   "outputs": [],
   "source": [
    "## remove bad data points, drop density, BMI\n",
    "\n",
    "BodyFat_cleaned <- BodyFat[-c(42, 172, 182, 39), -c(1, 3, 7)]"
   ]
  },
  {
   "cell_type": "code",
   "execution_count": 5,
   "metadata": {},
   "outputs": [
    {
     "data": {
      "text/plain": [
       "\n",
       "Call:\n",
       "lm(formula = BODYFAT ~ ., data = BodyFat_cleaned)\n",
       "\n",
       "Residuals:\n",
       "     Min       1Q   Median       3Q      Max \n",
       "-10.2213  -2.9122  -0.2092   2.7937   9.0525 \n",
       "\n",
       "Coefficients:\n",
       "             Estimate Std. Error t value Pr(>|t|)    \n",
       "(Intercept)  8.472956  21.743796   0.390 0.697133    \n",
       "AGE          0.060236   0.029721   2.027 0.043825 *  \n",
       "WEIGHT      -0.006632   0.062174  -0.107 0.915141    \n",
       "HEIGHT      -0.106991   0.069752  -1.534 0.126410    \n",
       "NECK        -0.355217   0.216123  -1.644 0.101605    \n",
       "CHEST       -0.119275   0.100902  -1.182 0.238369    \n",
       "ABDOMEN      0.831724   0.084211   9.877  < 2e-16 ***\n",
       "HIP         -0.149154   0.134328  -1.110 0.267979    \n",
       "THIGH        0.137594   0.136264   1.010 0.313653    \n",
       "KNEE        -0.054155   0.226173  -0.239 0.810975    \n",
       "ANKLE        0.168222   0.202544   0.831 0.407078    \n",
       "BICEPS       0.132922   0.158052   0.841 0.401204    \n",
       "FOREARM      0.254133   0.190814   1.332 0.184210    \n",
       "WRIST       -1.642768   0.490803  -3.347 0.000951 ***\n",
       "---\n",
       "Signif. codes:  0 '***' 0.001 '**' 0.01 '*' 0.05 '.' 0.1 ' ' 1\n",
       "\n",
       "Residual standard error: 3.916 on 234 degrees of freedom\n",
       "Multiple R-squared:  0.7446,\tAdjusted R-squared:  0.7304 \n",
       "F-statistic: 52.47 on 13 and 234 DF,  p-value: < 2.2e-16\n"
      ]
     },
     "metadata": {},
     "output_type": "display_data"
    },
    {
     "data": {
      "text/html": [
       "<style>\n",
       ".dl-inline {width: auto; margin:0; padding: 0}\n",
       ".dl-inline>dt, .dl-inline>dd {float: none; width: auto; display: inline-block}\n",
       ".dl-inline>dt::after {content: \":\\0020\"; padding-right: .5ex}\n",
       ".dl-inline>dt:not(:first-of-type) {padding-left: .5ex}\n",
       "</style><dl class=dl-inline><dt>AGE</dt><dd>2.28936362404731</dd><dt>WEIGHT</dt><dd>44.287218142774</dd><dt>HEIGHT</dt><dd>3.43174141304628</dd><dt>NECK</dt><dd>3.87899251901706</dd><dt>CHEST</dt><dd>10.6224137474062</dd><dt>ABDOMEN</dt><dd>11.6159774515509</dd><dt>HIP</dt><dd>11.7828413851714</dd><dt>THIGH</dt><dd>6.99477466986759</dd><dt>KNEE</dt><dd>4.31681365640039</dd><dt>ANKLE</dt><dd>1.78941415044586</dd><dt>BICEPS</dt><dd>3.3409838816062</dd><dt>FOREARM</dt><dd>2.37575090240555</dd><dt>WRIST</dt><dd>3.19349193001869</dd></dl>\n"
      ],
      "text/latex": [
       "\\begin{description*}\n",
       "\\item[AGE] 2.28936362404731\n",
       "\\item[WEIGHT] 44.287218142774\n",
       "\\item[HEIGHT] 3.43174141304628\n",
       "\\item[NECK] 3.87899251901706\n",
       "\\item[CHEST] 10.6224137474062\n",
       "\\item[ABDOMEN] 11.6159774515509\n",
       "\\item[HIP] 11.7828413851714\n",
       "\\item[THIGH] 6.99477466986759\n",
       "\\item[KNEE] 4.31681365640039\n",
       "\\item[ANKLE] 1.78941415044586\n",
       "\\item[BICEPS] 3.3409838816062\n",
       "\\item[FOREARM] 2.37575090240555\n",
       "\\item[WRIST] 3.19349193001869\n",
       "\\end{description*}\n"
      ],
      "text/markdown": [
       "AGE\n",
       ":   2.28936362404731WEIGHT\n",
       ":   44.287218142774HEIGHT\n",
       ":   3.43174141304628NECK\n",
       ":   3.87899251901706CHEST\n",
       ":   10.6224137474062ABDOMEN\n",
       ":   11.6159774515509HIP\n",
       ":   11.7828413851714THIGH\n",
       ":   6.99477466986759KNEE\n",
       ":   4.31681365640039ANKLE\n",
       ":   1.78941415044586BICEPS\n",
       ":   3.3409838816062FOREARM\n",
       ":   2.37575090240555WRIST\n",
       ":   3.19349193001869\n",
       "\n"
      ],
      "text/plain": [
       "      AGE    WEIGHT    HEIGHT      NECK     CHEST   ABDOMEN       HIP     THIGH \n",
       " 2.289364 44.287218  3.431741  3.878993 10.622414 11.615977 11.782841  6.994775 \n",
       "     KNEE     ANKLE    BICEPS   FOREARM     WRIST \n",
       " 4.316814  1.789414  3.340984  2.375751  3.193492 "
      ]
     },
     "metadata": {},
     "output_type": "display_data"
    },
    {
     "data": {
      "text/html": [
       "<table class=\"dataframe\">\n",
       "<caption>A tibble: 6 × 14</caption>\n",
       "<thead>\n",
       "\t<tr><th scope=col>BODYFAT</th><th scope=col>AGE</th><th scope=col>WEIGHT</th><th scope=col>HEIGHT</th><th scope=col>NECK</th><th scope=col>CHEST</th><th scope=col>ABDOMEN</th><th scope=col>HIP</th><th scope=col>THIGH</th><th scope=col>KNEE</th><th scope=col>ANKLE</th><th scope=col>BICEPS</th><th scope=col>FOREARM</th><th scope=col>WRIST</th></tr>\n",
       "\t<tr><th scope=col>&lt;dbl&gt;</th><th scope=col>&lt;dbl&gt;</th><th scope=col>&lt;dbl&gt;</th><th scope=col>&lt;dbl&gt;</th><th scope=col>&lt;dbl&gt;</th><th scope=col>&lt;dbl&gt;</th><th scope=col>&lt;dbl&gt;</th><th scope=col>&lt;dbl&gt;</th><th scope=col>&lt;dbl&gt;</th><th scope=col>&lt;dbl&gt;</th><th scope=col>&lt;dbl&gt;</th><th scope=col>&lt;dbl&gt;</th><th scope=col>&lt;dbl&gt;</th><th scope=col>&lt;dbl&gt;</th></tr>\n",
       "</thead>\n",
       "<tbody>\n",
       "\t<tr><td>12.6</td><td>23</td><td>154.25</td><td>172.0853</td><td>36.2</td><td> 93.1</td><td> 85.2</td><td> 94.5</td><td>59.0</td><td>37.3</td><td>21.9</td><td>32.0</td><td>27.4</td><td>17.1</td></tr>\n",
       "\t<tr><td> 6.9</td><td>22</td><td>173.25</td><td>183.5154</td><td>38.5</td><td> 93.6</td><td> 83.0</td><td> 98.7</td><td>58.7</td><td>37.3</td><td>23.4</td><td>30.5</td><td>28.9</td><td>18.2</td></tr>\n",
       "\t<tr><td>24.6</td><td>22</td><td>154.00</td><td>168.2753</td><td>34.0</td><td> 95.8</td><td> 87.9</td><td> 99.2</td><td>59.6</td><td>38.9</td><td>24.0</td><td>28.8</td><td>25.2</td><td>16.6</td></tr>\n",
       "\t<tr><td>10.9</td><td>26</td><td>184.75</td><td>183.5154</td><td>37.4</td><td>101.8</td><td> 86.4</td><td>101.2</td><td>60.1</td><td>37.3</td><td>22.8</td><td>32.4</td><td>29.4</td><td>18.2</td></tr>\n",
       "\t<tr><td>27.8</td><td>24</td><td>184.25</td><td>180.9754</td><td>34.4</td><td> 97.3</td><td>100.0</td><td>101.9</td><td>63.2</td><td>42.2</td><td>24.0</td><td>32.2</td><td>27.7</td><td>17.7</td></tr>\n",
       "\t<tr><td>20.6</td><td>24</td><td>210.25</td><td>189.8654</td><td>39.0</td><td>104.5</td><td> 94.4</td><td>107.8</td><td>66.0</td><td>42.0</td><td>25.6</td><td>35.7</td><td>30.6</td><td>18.8</td></tr>\n",
       "</tbody>\n",
       "</table>\n"
      ],
      "text/latex": [
       "A tibble: 6 × 14\n",
       "\\begin{tabular}{llllllllllllll}\n",
       " BODYFAT & AGE & WEIGHT & HEIGHT & NECK & CHEST & ABDOMEN & HIP & THIGH & KNEE & ANKLE & BICEPS & FOREARM & WRIST\\\\\n",
       " <dbl> & <dbl> & <dbl> & <dbl> & <dbl> & <dbl> & <dbl> & <dbl> & <dbl> & <dbl> & <dbl> & <dbl> & <dbl> & <dbl>\\\\\n",
       "\\hline\n",
       "\t 12.6 & 23 & 154.25 & 172.0853 & 36.2 &  93.1 &  85.2 &  94.5 & 59.0 & 37.3 & 21.9 & 32.0 & 27.4 & 17.1\\\\\n",
       "\t  6.9 & 22 & 173.25 & 183.5154 & 38.5 &  93.6 &  83.0 &  98.7 & 58.7 & 37.3 & 23.4 & 30.5 & 28.9 & 18.2\\\\\n",
       "\t 24.6 & 22 & 154.00 & 168.2753 & 34.0 &  95.8 &  87.9 &  99.2 & 59.6 & 38.9 & 24.0 & 28.8 & 25.2 & 16.6\\\\\n",
       "\t 10.9 & 26 & 184.75 & 183.5154 & 37.4 & 101.8 &  86.4 & 101.2 & 60.1 & 37.3 & 22.8 & 32.4 & 29.4 & 18.2\\\\\n",
       "\t 27.8 & 24 & 184.25 & 180.9754 & 34.4 &  97.3 & 100.0 & 101.9 & 63.2 & 42.2 & 24.0 & 32.2 & 27.7 & 17.7\\\\\n",
       "\t 20.6 & 24 & 210.25 & 189.8654 & 39.0 & 104.5 &  94.4 & 107.8 & 66.0 & 42.0 & 25.6 & 35.7 & 30.6 & 18.8\\\\\n",
       "\\end{tabular}\n"
      ],
      "text/markdown": [
       "\n",
       "A tibble: 6 × 14\n",
       "\n",
       "| BODYFAT &lt;dbl&gt; | AGE &lt;dbl&gt; | WEIGHT &lt;dbl&gt; | HEIGHT &lt;dbl&gt; | NECK &lt;dbl&gt; | CHEST &lt;dbl&gt; | ABDOMEN &lt;dbl&gt; | HIP &lt;dbl&gt; | THIGH &lt;dbl&gt; | KNEE &lt;dbl&gt; | ANKLE &lt;dbl&gt; | BICEPS &lt;dbl&gt; | FOREARM &lt;dbl&gt; | WRIST &lt;dbl&gt; |\n",
       "|---|---|---|---|---|---|---|---|---|---|---|---|---|---|\n",
       "| 12.6 | 23 | 154.25 | 172.0853 | 36.2 |  93.1 |  85.2 |  94.5 | 59.0 | 37.3 | 21.9 | 32.0 | 27.4 | 17.1 |\n",
       "|  6.9 | 22 | 173.25 | 183.5154 | 38.5 |  93.6 |  83.0 |  98.7 | 58.7 | 37.3 | 23.4 | 30.5 | 28.9 | 18.2 |\n",
       "| 24.6 | 22 | 154.00 | 168.2753 | 34.0 |  95.8 |  87.9 |  99.2 | 59.6 | 38.9 | 24.0 | 28.8 | 25.2 | 16.6 |\n",
       "| 10.9 | 26 | 184.75 | 183.5154 | 37.4 | 101.8 |  86.4 | 101.2 | 60.1 | 37.3 | 22.8 | 32.4 | 29.4 | 18.2 |\n",
       "| 27.8 | 24 | 184.25 | 180.9754 | 34.4 |  97.3 | 100.0 | 101.9 | 63.2 | 42.2 | 24.0 | 32.2 | 27.7 | 17.7 |\n",
       "| 20.6 | 24 | 210.25 | 189.8654 | 39.0 | 104.5 |  94.4 | 107.8 | 66.0 | 42.0 | 25.6 | 35.7 | 30.6 | 18.8 |\n",
       "\n"
      ],
      "text/plain": [
       "  BODYFAT AGE WEIGHT HEIGHT   NECK CHEST ABDOMEN HIP   THIGH KNEE ANKLE BICEPS\n",
       "1 12.6    23  154.25 172.0853 36.2  93.1  85.2    94.5 59.0  37.3 21.9  32.0  \n",
       "2  6.9    22  173.25 183.5154 38.5  93.6  83.0    98.7 58.7  37.3 23.4  30.5  \n",
       "3 24.6    22  154.00 168.2753 34.0  95.8  87.9    99.2 59.6  38.9 24.0  28.8  \n",
       "4 10.9    26  184.75 183.5154 37.4 101.8  86.4   101.2 60.1  37.3 22.8  32.4  \n",
       "5 27.8    24  184.25 180.9754 34.4  97.3 100.0   101.9 63.2  42.2 24.0  32.2  \n",
       "6 20.6    24  210.25 189.8654 39.0 104.5  94.4   107.8 66.0  42.0 25.6  35.7  \n",
       "  FOREARM WRIST\n",
       "1 27.4    17.1 \n",
       "2 28.9    18.2 \n",
       "3 25.2    16.6 \n",
       "4 29.4    18.2 \n",
       "5 27.7    17.7 \n",
       "6 30.6    18.8 "
      ]
     },
     "metadata": {},
     "output_type": "display_data"
    }
   ],
   "source": [
    "## initial model\n",
    "\n",
    "lm_model1 <- lm(BODYFAT ~ ., data = BodyFat_cleaned)\n",
    "summary(lm_model1)\n",
    "corr <- cor(BodyFat_cleaned[, -1]) ## notice strong correlation on weight with other terms\n",
    "vif(lm_model1) ## weight is dropped due to high vif\n",
    "head(BodyFat_cleaned)"
   ]
  },
  {
   "cell_type": "code",
   "execution_count": 6,
   "metadata": {},
   "outputs": [
    {
     "data": {
      "text/plain": [
       "Subset selection object\n",
       "Call: regsubsets.formula(BODYFAT ~ . - WEIGHT, data = BodyFat_cleaned, \n",
       "    nvmax = 100)\n",
       "12 Variables  (and intercept)\n",
       "        Forced in Forced out\n",
       "AGE         FALSE      FALSE\n",
       "HEIGHT      FALSE      FALSE\n",
       "NECK        FALSE      FALSE\n",
       "CHEST       FALSE      FALSE\n",
       "ABDOMEN     FALSE      FALSE\n",
       "HIP         FALSE      FALSE\n",
       "THIGH       FALSE      FALSE\n",
       "KNEE        FALSE      FALSE\n",
       "ANKLE       FALSE      FALSE\n",
       "BICEPS      FALSE      FALSE\n",
       "FOREARM     FALSE      FALSE\n",
       "WRIST       FALSE      FALSE\n",
       "1 subsets of each size up to 12\n",
       "Selection Algorithm: exhaustive\n",
       "          AGE HEIGHT NECK CHEST ABDOMEN HIP THIGH KNEE ANKLE BICEPS FOREARM\n",
       "1  ( 1 )  \" \" \" \"    \" \"  \" \"   \"*\"     \" \" \" \"   \" \"  \" \"   \" \"    \" \"    \n",
       "2  ( 1 )  \" \" \" \"    \" \"  \" \"   \"*\"     \" \" \" \"   \" \"  \" \"   \" \"    \" \"    \n",
       "3  ( 1 )  \" \" \"*\"    \" \"  \" \"   \"*\"     \" \" \" \"   \" \"  \" \"   \" \"    \" \"    \n",
       "4  ( 1 )  \"*\" \"*\"    \" \"  \" \"   \"*\"     \" \" \" \"   \" \"  \" \"   \" \"    \" \"    \n",
       "5  ( 1 )  \"*\" \"*\"    \" \"  \"*\"   \"*\"     \" \" \" \"   \" \"  \" \"   \" \"    \" \"    \n",
       "6  ( 1 )  \"*\" \"*\"    \" \"  \"*\"   \"*\"     \" \" \" \"   \" \"  \" \"   \" \"    \"*\"    \n",
       "7  ( 1 )  \"*\" \"*\"    \"*\"  \"*\"   \"*\"     \" \" \" \"   \" \"  \" \"   \" \"    \"*\"    \n",
       "8  ( 1 )  \"*\" \"*\"    \"*\"  \"*\"   \"*\"     \" \" \" \"   \" \"  \" \"   \"*\"    \"*\"    \n",
       "9  ( 1 )  \"*\" \"*\"    \"*\"  \"*\"   \"*\"     \"*\" \"*\"   \" \"  \" \"   \" \"    \"*\"    \n",
       "10  ( 1 ) \"*\" \"*\"    \"*\"  \"*\"   \"*\"     \"*\" \"*\"   \" \"  \" \"   \"*\"    \"*\"    \n",
       "11  ( 1 ) \"*\" \"*\"    \"*\"  \"*\"   \"*\"     \"*\" \"*\"   \" \"  \"*\"   \"*\"    \"*\"    \n",
       "12  ( 1 ) \"*\" \"*\"    \"*\"  \"*\"   \"*\"     \"*\" \"*\"   \"*\"  \"*\"   \"*\"    \"*\"    \n",
       "          WRIST\n",
       "1  ( 1 )  \" \"  \n",
       "2  ( 1 )  \"*\"  \n",
       "3  ( 1 )  \"*\"  \n",
       "4  ( 1 )  \"*\"  \n",
       "5  ( 1 )  \"*\"  \n",
       "6  ( 1 )  \"*\"  \n",
       "7  ( 1 )  \"*\"  \n",
       "8  ( 1 )  \"*\"  \n",
       "9  ( 1 )  \"*\"  \n",
       "10  ( 1 ) \"*\"  \n",
       "11  ( 1 ) \"*\"  \n",
       "12  ( 1 ) \"*\"  "
      ]
     },
     "metadata": {},
     "output_type": "display_data"
    },
    {
     "data": {
      "text/html": [
       "<style>\n",
       ".list-inline {list-style: none; margin:0; padding: 0}\n",
       ".list-inline>li {display: inline-block}\n",
       ".list-inline>li:not(:last-child)::after {content: \"\\00b7\"; padding: 0 .5ex}\n",
       "</style>\n",
       "<ol class=list-inline><li>-262.890378995375</li><li>-290.674927293069</li><li>-300.755819698752</li><li>-300.038369786893</li><li>-297.113072038232</li><li>-293.779178201616</li><li>-290.529365618788</li><li>-286.170356854345</li><li>-281.865853712213</li><li>-277.083026953518</li><li>-272.228139675099</li><li>-266.783804407278</li></ol>\n"
      ],
      "text/latex": [
       "\\begin{enumerate*}\n",
       "\\item -262.890378995375\n",
       "\\item -290.674927293069\n",
       "\\item -300.755819698752\n",
       "\\item -300.038369786893\n",
       "\\item -297.113072038232\n",
       "\\item -293.779178201616\n",
       "\\item -290.529365618788\n",
       "\\item -286.170356854345\n",
       "\\item -281.865853712213\n",
       "\\item -277.083026953518\n",
       "\\item -272.228139675099\n",
       "\\item -266.783804407278\n",
       "\\end{enumerate*}\n"
      ],
      "text/markdown": [
       "1. -262.890378995375\n",
       "2. -290.674927293069\n",
       "3. -300.755819698752\n",
       "4. -300.038369786893\n",
       "5. -297.113072038232\n",
       "6. -293.779178201616\n",
       "7. -290.529365618788\n",
       "8. -286.170356854345\n",
       "9. -281.865853712213\n",
       "10. -277.083026953518\n",
       "11. -272.228139675099\n",
       "12. -266.783804407278\n",
       "\n",
       "\n"
      ],
      "text/plain": [
       " [1] -262.8904 -290.6749 -300.7558 -300.0384 -297.1131 -293.7792 -290.5294\n",
       " [8] -286.1704 -281.8659 -277.0830 -272.2281 -266.7838"
      ]
     },
     "metadata": {},
     "output_type": "display_data"
    },
    {
     "data": {
      "text/html": [
       "<style>\n",
       ".list-inline {list-style: none; margin:0; padding: 0}\n",
       ".list-inline>li {display: inline-block}\n",
       ".list-inline>li:not(:last-child)::after {content: \"\\00b7\"; padding: 0 .5ex}\n",
       "</style>\n",
       "<ol class=list-inline><li>0.667278070748903</li><li>0.707894691511263</li><li>0.724572608870711</li><li>0.728736086266874</li><li>0.730442991175639</li><li>0.731692892230102</li><li>0.733022929996899</li><li>0.733150927589394</li><li>0.733332809080168</li><li>0.732995379971607</li><li>0.732575070733672</li><li>0.731511904250044</li></ol>\n"
      ],
      "text/latex": [
       "\\begin{enumerate*}\n",
       "\\item 0.667278070748903\n",
       "\\item 0.707894691511263\n",
       "\\item 0.724572608870711\n",
       "\\item 0.728736086266874\n",
       "\\item 0.730442991175639\n",
       "\\item 0.731692892230102\n",
       "\\item 0.733022929996899\n",
       "\\item 0.733150927589394\n",
       "\\item 0.733332809080168\n",
       "\\item 0.732995379971607\n",
       "\\item 0.732575070733672\n",
       "\\item 0.731511904250044\n",
       "\\end{enumerate*}\n"
      ],
      "text/markdown": [
       "1. 0.667278070748903\n",
       "2. 0.707894691511263\n",
       "3. 0.724572608870711\n",
       "4. 0.728736086266874\n",
       "5. 0.730442991175639\n",
       "6. 0.731692892230102\n",
       "7. 0.733022929996899\n",
       "8. 0.733150927589394\n",
       "9. 0.733332809080168\n",
       "10. 0.732995379971607\n",
       "11. 0.732575070733672\n",
       "12. 0.731511904250044\n",
       "\n",
       "\n"
      ],
      "text/plain": [
       " [1] 0.6672781 0.7078947 0.7245726 0.7287361 0.7304430 0.7316929 0.7330229\n",
       " [8] 0.7331509 0.7333328 0.7329954 0.7325751 0.7315119"
      ]
     },
     "metadata": {},
     "output_type": "display_data"
    }
   ],
   "source": [
    "## best subset selection\n",
    "\n",
    "best_subset <- regsubsets(BODYFAT ~ . - WEIGHT, data = BodyFat_cleaned, nvmax = 100)\n",
    "summary(best_subset)\n",
    "summary(best_subset)$bic\n",
    "summary(best_subset)$adjr2  ## (3) & (4) are candidates of optimal model since it has lowest BIC and a relatively high R^2"
   ]
  },
  {
   "cell_type": "code",
   "execution_count": 7,
   "metadata": {},
   "outputs": [
    {
     "data": {
      "text/plain": [
       "\n",
       "Call:\n",
       "lm(formula = BODYFAT ~ ABDOMEN + WRIST + HEIGHT, data = BodyFat_cleaned)\n",
       "\n",
       "Residuals:\n",
       "    Min      1Q  Median      3Q     Max \n",
       "-9.2625 -2.9578 -0.1882  2.8937  8.9635 \n",
       "\n",
       "Coefficients:\n",
       "            Estimate Std. Error t value Pr(>|t|)    \n",
       "(Intercept) 11.12688    7.30834   1.522    0.129    \n",
       "ABDOMEN      0.71369    0.03107  22.970  < 2e-16 ***\n",
       "WRIST       -1.57409    0.36911  -4.265 2.87e-05 ***\n",
       "HEIGHT      -0.16477    0.04141  -3.979 9.12e-05 ***\n",
       "---\n",
       "Signif. codes:  0 '***' 0.001 '**' 0.01 '*' 0.05 '.' 0.1 ' ' 1\n",
       "\n",
       "Residual standard error: 3.958 on 244 degrees of freedom\n",
       "Multiple R-squared:  0.7279,\tAdjusted R-squared:  0.7246 \n",
       "F-statistic: 217.6 on 3 and 244 DF,  p-value: < 2.2e-16\n"
      ]
     },
     "metadata": {},
     "output_type": "display_data"
    },
    {
     "data": {
      "text/html": [
       "<style>\n",
       ".dl-inline {width: auto; margin:0; padding: 0}\n",
       ".dl-inline>dt, .dl-inline>dd {float: none; width: auto; display: inline-block}\n",
       ".dl-inline>dt::after {content: \":\\0020\"; padding-right: .5ex}\n",
       ".dl-inline>dt:not(:first-of-type) {padding-left: .5ex}\n",
       "</style><dl class=dl-inline><dt>ABDOMEN</dt><dd>1.54794021683714</dd><dt>WRIST</dt><dd>1.76814773698866</dd><dt>HEIGHT</dt><dd>1.18376018779785</dd></dl>\n"
      ],
      "text/latex": [
       "\\begin{description*}\n",
       "\\item[ABDOMEN] 1.54794021683714\n",
       "\\item[WRIST] 1.76814773698866\n",
       "\\item[HEIGHT] 1.18376018779785\n",
       "\\end{description*}\n"
      ],
      "text/markdown": [
       "ABDOMEN\n",
       ":   1.54794021683714WRIST\n",
       ":   1.76814773698866HEIGHT\n",
       ":   1.18376018779785\n",
       "\n"
      ],
      "text/plain": [
       " ABDOMEN    WRIST   HEIGHT \n",
       "1.547940 1.768148 1.183760 "
      ]
     },
     "metadata": {},
     "output_type": "display_data"
    },
    {
     "data": {
      "image/png": "[encoded data removed]",
      "text/plain": [
       "Plot with title \"\""
      ]
     },
     "metadata": {
      "image/png": {
       "height": 420,
       "width": 420
      }
     },
     "output_type": "display_data"
    },
    {
     "data": {
      "image/png": "[encoded data removed]",
      "text/plain": [
       "Plot with title \"Influence Values (Cook's Distance)\""
      ]
     },
     "metadata": {
      "image/png": {
       "height": 420,
       "width": 420
      }
     },
     "output_type": "display_data"
    }
   ],
   "source": [
    "## model candidates\n",
    "\n",
    "final_3 <- lm(BODYFAT ~ ABDOMEN + WRIST + HEIGHT, data = BodyFat_cleaned)  ## three predictors\n",
    "summary(final_3)\n",
    "vif(final_3)\n",
    "par(mfrow = c(2, 2))\n",
    "plot(final_3, ask = F)\n",
    "\n",
    "## plot the leverage ponints and influential points\n",
    "lmmodel = final_3\n",
    "  pii = hatvalues(lmmodel)\n",
    "  hat_max_index <- which.max(pii)\n",
    "  cooki = cooks.distance(lmmodel)\n",
    "  par(mfrow = c(2, 1))\n",
    "  n = dim(BodyFat_cleaned)[1]\n",
    "  plot(\n",
    "    1:n,\n",
    "    pii,\n",
    "    type = \"p\",\n",
    "    pch = 19,\n",
    "    cex = 1.2,\n",
    "    cex.lab = 1.5,\n",
    "    cex.main = 1.5,\n",
    "    xlab = \"Index (Each Observation)\",\n",
    "    ylab = \"Pii\",\n",
    "    main = \"Leverage Values (Pii)\"\n",
    "  )\n",
    "  plot(\n",
    "    1:n,\n",
    "    cooki,\n",
    "    type = \"p\",\n",
    "    pch = 19,\n",
    "    cex = 1.2,\n",
    "    cex.lab = 1.5,\n",
    "    cex.main = 1.5,\n",
    "    xlab = \"Index (Each Observation)\",\n",
    "    ylab = \"Cook's Distance\",\n",
    "    main = \"Influence Values (Cook's Distance)\"\n",
    "  )"
   ]
  },
  {
   "cell_type": "code",
   "execution_count": 8,
   "metadata": {},
   "outputs": [
    {
     "data": {
      "text/plain": [
       "\n",
       "Call:\n",
       "lm(formula = BODYFAT ~ ABDOMEN + HEIGHT + WRIST + AGE, data = BodyFat_cleaned)\n",
       "\n",
       "Residuals:\n",
       "    Min      1Q  Median      3Q     Max \n",
       "-9.7296 -2.8671 -0.3517  2.9719  8.5195 \n",
       "\n",
       "Coefficients:\n",
       "            Estimate Std. Error t value Pr(>|t|)    \n",
       "(Intercept)  6.82824    7.51656   0.908  0.36455    \n",
       "ABDOMEN      0.70543    0.03107  22.707  < 2e-16 ***\n",
       "HEIGHT      -0.12925    0.04421  -2.924  0.00378 ** \n",
       "WRIST       -1.76208    0.37634  -4.682 4.72e-06 ***\n",
       "AGE          0.04774    0.02192   2.178  0.03034 *  \n",
       "---\n",
       "Signif. codes:  0 '***' 0.001 '**' 0.01 '*' 0.05 '.' 0.1 ' ' 1\n",
       "\n",
       "Residual standard error: 3.928 on 243 degrees of freedom\n",
       "Multiple R-squared:  0.7331,\tAdjusted R-squared:  0.7287 \n",
       "F-statistic: 166.9 on 4 and 243 DF,  p-value: < 2.2e-16\n"
      ]
     },
     "metadata": {},
     "output_type": "display_data"
    },
    {
     "data": {
      "text/html": [
       "<style>\n",
       ".dl-inline {width: auto; margin:0; padding: 0}\n",
       ".dl-inline>dt, .dl-inline>dd {float: none; width: auto; display: inline-block}\n",
       ".dl-inline>dt::after {content: \":\\0020\"; padding-right: .5ex}\n",
       ".dl-inline>dt:not(:first-of-type) {padding-left: .5ex}\n",
       "</style><dl class=dl-inline><dt>ABDOMEN</dt><dd>1.57136815204874</dd><dt>HEIGHT</dt><dd>1.37011511666487</dd><dt>WRIST</dt><dd>1.86628771402299</dd><dt>AGE</dt><dd>1.23742607397225</dd></dl>\n"
      ],
      "text/latex": [
       "\\begin{description*}\n",
       "\\item[ABDOMEN] 1.57136815204874\n",
       "\\item[HEIGHT] 1.37011511666487\n",
       "\\item[WRIST] 1.86628771402299\n",
       "\\item[AGE] 1.23742607397225\n",
       "\\end{description*}\n"
      ],
      "text/markdown": [
       "ABDOMEN\n",
       ":   1.57136815204874HEIGHT\n",
       ":   1.37011511666487WRIST\n",
       ":   1.86628771402299AGE\n",
       ":   1.23742607397225\n",
       "\n"
      ],
      "text/plain": [
       " ABDOMEN   HEIGHT    WRIST      AGE \n",
       "1.571368 1.370115 1.866288 1.237426 "
      ]
     },
     "metadata": {},
     "output_type": "display_data"
    },
    {
     "data": {
      "image/png": "[encoded data removed]",
      "text/plain": [
       "Plot with title \"\""
      ]
     },
     "metadata": {
      "image/png": {
       "height": 420,
       "width": 420
      }
     },
     "output_type": "display_data"
    },
    {
     "data": {
      "image/png": "[encoded data removed]",
      "text/plain": [
       "Plot with title \"Influence Values (Cook's Distance)\""
      ]
     },
     "metadata": {
      "image/png": {
       "height": 420,
       "width": 420
      }
     },
     "output_type": "display_data"
    }
   ],
   "source": [
    "## model candidates\n",
    "\n",
    "final_4 <- lm(BODYFAT ~ ABDOMEN + HEIGHT + WRIST + AGE, data = BodyFat_cleaned)  ## four predictors\n",
    "summary(final_4)\n",
    "vif(final_4)\n",
    "par(mfrow = c(2, 2))\n",
    "plot(final_4, ask = F)\n",
    "\n",
    "## plot the leverage ponints and influential points\n",
    "lmmodel = final_3\n",
    "  pii = hatvalues(lmmodel)\n",
    "  hat_max_index <- which.max(pii)\n",
    "  cooki = cooks.distance(lmmodel)\n",
    "  par(mfrow = c(2, 1))\n",
    "  n = dim(BodyFat_cleaned)[1]\n",
    "  plot(\n",
    "    1:n,\n",
    "    pii,\n",
    "    type = \"p\",\n",
    "    pch = 19,\n",
    "    cex = 1.2,\n",
    "    cex.lab = 1.5,\n",
    "    cex.main = 1.5,\n",
    "    xlab = \"Index (Each Observation)\",\n",
    "    ylab = \"Pii\",\n",
    "    main = \"Leverage Values (Pii)\"\n",
    "  )\n",
    "  plot(\n",
    "    1:n,\n",
    "    cooki,\n",
    "    type = \"p\",\n",
    "    pch = 19,\n",
    "    cex = 1.2,\n",
    "    cex.lab = 1.5,\n",
    "    cex.main = 1.5,\n",
    "    xlab = \"Index (Each Observation)\",\n",
    "    ylab = \"Cook's Distance\",\n",
    "    main = \"Influence Values (Cook's Distance)\"\n",
    "  )"
   ]
  }
 ],
 "metadata": {
  "kernelspec": {
   "display_name": "R",
   "language": "R",
   "name": "ir"
  },
  "language_info": {
   "codemirror_mode": "r",
   "file_extension": ".r",
   "mimetype": "text/x-r-source",
   "name": "R",
   "pygments_lexer": "r",
   "version": "4.1.1"
  },
  "orig_nbformat": 4
 },
 "nbformat": 4,
 "nbformat_minor": 2
}
